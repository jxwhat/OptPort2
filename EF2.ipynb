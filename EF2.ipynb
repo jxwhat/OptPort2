{
 "cells": [
  {
   "cell_type": "markdown",
   "metadata": {},
   "source": [
    "This exercise follows [Corporate Finance Institute](https://corporatefinanceinstitute.com/)'s rundown on  [Capital Allocation Line and Optimal Portfolio](https://corporatefinanceinstitute.com/resources/knowledge/finance/capital-allocation-line-cal-and-optimal-portfolio/), alongside annotations and workings by myself. "
   ]
  },
  {
   "cell_type": "markdown",
   "metadata": {},
   "source": [
    "# Capital Allocation Line (CAL) and Optimal Portfolio\n",
    "\n",
    "The Capital Allocation Line (CAL) is a line that graphically depicts the risk-and-reward profile of assets, and can be used to find the optimal portfolio. \n",
    "\n",
    "This notebook will describe the process to construct the CAL for a 2-asset portfolio in Python, and provide an interactive wrapper around it for the user to observe the effects of varying parameters on the shape of the efficient frontier."
   ]
  },
  {
   "cell_type": "code",
   "execution_count": 150,
   "metadata": {},
   "outputs": [],
   "source": [
    "import pandas as pd\n",
    "import numpy as np\n",
    "import matplotlib.pyplot as plt\n",
    "import seaborn as sns; sns.set_style('ticks')\n",
    "import ipywidgets as widgets\n",
    "from IPython.display import display\n",
    "%matplotlib inline"
   ]
  },
  {
   "cell_type": "markdown",
   "metadata": {},
   "source": [
    "## Portfolio expected return and variance\n",
    "\n",
    "For a portfolio $P$ consisting of two assets, asset A and asset B, the portfolio's expected return is a weighted average of its individual assets’ expected returns:\n",
    "\n",
    "$$E(r_P) = w_A * E(r_A) + w_B * E(r_B) $$\n",
    "\n",
    "Where $w_A, w_B$ are the respective weights for the two assets, and $E(r_A), E(r_B)$ are the respective expected returns.\n",
    "\n",
    "The variance of a portfolio is not just the weighted average of the variance of individual assets but also depends on the covariance and correlation of the two assets. The formula for portfolio variance is given as:\n",
    "\n",
    "$$\\sigma^2(R_P) = \\sigma^2_A w^2_A + \\sigma^2_Bw^2_B + 2w_Aw_B\\sigma_A\\sigma_B\\rho_{A,B} \\iff \\sigma^2_A w^2_A + \\sigma^2_Bw^2_B + 2w_A w_B \\text{Cov}(A, B)$$\n",
    "\n",
    "The conversion between correlation and covariance is given as: $\\rho(r_A, r_B) = \\text{Cov}(r_A, r_B) / \\sigma_A \\sigma_B$.\n",
    "\n",
    "The variance of portfolio return is greater when the covariance of the two assets is positive, and less when negative. Since variance represents risk, the portfolio risk is lower when its asset components possess negative covariance. \n",
    "\n",
    "Diversification is a technique that minimizes portfolio risk by investing in assets with negative covariance."
   ]
  },
  {
   "cell_type": "markdown",
   "metadata": {},
   "source": [
    "## The efficient frontier\n",
    "\n",
    "A portfolio frontier is a graph that maps out all possible portfolios with different asset weight combinations, with levels of portfolio standard deviation graphed on the x-axis and portfolio expected return on the y-axis.\n",
    "\n",
    "To construct a portfolio frontier, we first assign values for each asset's expected returns and standard deviations. \n",
    "\n",
    "We then generate list of weights for the assets, which is a linearly-spaced array consisting of $n$ points between 0 and 1. "
   ]
  },
  {
   "cell_type": "code",
   "execution_count": 73,
   "metadata": {},
   "outputs": [],
   "source": [
    "# asset A\n",
    "r_A = 0.15\n",
    "std_A = 0.18\n",
    "A = r_A, std_A\n",
    "\n",
    "# asset B\n",
    "r_B = 0.07\n",
    "std_B = 0.1\n",
    "B = r_B, std_B\n",
    "\n",
    "# correlation of A and B\n",
    "rho_AB = -0.3\n",
    "\n",
    "# generate list of weights between the two asset classes\n",
    "n_points = 25\n",
    "weights = np.array([[w,1-w] for w in np.linspace(0,1,n_points)])"
   ]
  },
  {
   "cell_type": "code",
   "execution_count": 93,
   "metadata": {},
   "outputs": [],
   "source": [
    "# function to compute portfolio returns\n",
    "def p_returns(weights, r_A, r_B):\n",
    "    '''\n",
    "    computes a column vector for portfolio expected returns\n",
    "    given an array consisting of the asset weights\n",
    "    '''\n",
    "    return weights @ np.array([[r_A], [r_B]])\n",
    "\n",
    "# function to compute portfolio variance\n",
    "def p_var(weights, std_A, std_B, rho_AB):\n",
    "    '''\n",
    "    computes portfolio variance at every level of weights\n",
    "    '''\n",
    "    var_A, var_B = std_A**2, std_B**2\n",
    "    out = []\n",
    "    for e in weights:\n",
    "        var = (var_A**2)*(e[0]**2) + (var_B**2)*(e[1]**2) + np.prod([2,e[0],e[1],var_A,var_B,rho_AB])\n",
    "        out.append(var**0.5)\n",
    "    return np.array(out)[np.newaxis].T"
   ]
  },
  {
   "cell_type": "markdown",
   "metadata": {},
   "source": [
    "We then use the scatter chart with smooth lines to plot the portfolio’s expected return and standard deviation. The result is shown on the graph below, where each dot on the plot represents a portfolio constructed under an asset weight combination."
   ]
  },
  {
   "cell_type": "code",
   "execution_count": 112,
   "metadata": {},
   "outputs": [
    {
     "data": {
      "image/png": "[encoded data removed]",
      "text/plain": [
       "<Figure size 1008x576 with 1 Axes>"
      ]
     },
     "metadata": {
      "needs_background": "light"
     },
     "output_type": "display_data"
    }
   ],
   "source": [
    "rets = p_returns(weights=weights, r_A=r_A, r_B=r_B)\n",
    "vol = p_var(weights=weights, std_A=std_A, std_B=std_B, rho_AB=rho_AB)\n",
    "plt.figure(figsize=(14, 8))\n",
    "plt.xlabel('Portfolio volatility')\n",
    "plt.ylabel('Portfolio expected returns')\n",
    "plt.plot(vol, rets, 'o-')\n",
    "plt.show()"
   ]
  },
  {
   "cell_type": "markdown",
   "metadata": {},
   "source": [
    "## Interactive wrapper for efficient frontier plot"
   ]
  },
  {
   "cell_type": "code",
   "execution_count": 162,
   "metadata": {},
   "outputs": [
    {
     "data": {
      "application/vnd.jupyter.widget-view+json": {
       "model_id": "48d38da0dc254a98b226762ab4857696",
       "version_major": 2,
       "version_minor": 0
      },
      "text/plain": [
       "interactive(children=(IntSlider(value=25, description='n_points', max=250, min=25, step=25), FloatSlider(value…"
      ]
     },
     "metadata": {},
     "output_type": "display_data"
    }
   ],
   "source": [
    "def show_ef2(n_points=25, r_A=0.15, std_A=.18, r_B=.07, std_B=.1, rho_AB=-.5):\n",
    "    weights = np.array([[w,1-w] for w in np.linspace(0,1,n_points)])\n",
    "    rets = p_returns(weights=weights, r_A=r_A, r_B=r_B)\n",
    "    vol = p_var(weights=weights, std_A=std_A, std_B=std_B, rho_AB=rho_AB)\n",
    "    plt.figure(figsize=(14, 8))\n",
    "    plt.xlabel('Portfolio volatility')\n",
    "    plt.ylabel('Portfolio expected returns')\n",
    "    plt.plot(vol, rets, 'o-')\n",
    "    plt.xlim(left=0)\n",
    "    plt.show()\n",
    "    \n",
    "controls = widgets.interactive(show_ef2,\n",
    "                               n_points=(25, 250, 25),\n",
    "                               r_A=(-0.15, .8, .05),\n",
    "                               std_A=(0., 1., 0.01),\n",
    "                               r_B=(-0.15, 0.8, .05),\n",
    "                               std_B=(0.,1.,.01),\n",
    "                               rho_AB=(-1,1,.05)                               \n",
    "                              )\n",
    "\n",
    "display(controls)"
   ]
  },
  {
   "cell_type": "markdown",
   "metadata": {},
   "source": [
    "## Complete portfolio and capital allocation line\n",
    "\n",
    "In constructing portfolios, investors often combine risky assets with risk-free assets to reduce risks. A complete portfolio is defined as a combination of a risky asset portfolio, with return $r_P$, and the risk-free asset, with return of $r_f$.\n",
    "\n",
    "The expected return of a complete portfolio is given as:\n",
    "\n",
    "$$ E(r_C) = w_P E(r_P) + (1-w_P)r_f$$ \n",
    "\n",
    "and the variance of the complete portfolio return is given as:\n",
    "\n",
    "$$ \\text{Var}(r_C) = w^2_P\\text{Var}(r_P) $$\n",
    "\n",
    "The expected excess return of a complete portfolio is calculated as:\n",
    "\n",
    "$$ E(r_C) - r_f $$\n",
    "\n",
    "if we substitute $E(r_C)$ with the previous formula, we get $w_P(E(r_P) − r_f)$.\n",
    "\n",
    "The standard deviation of the complete portfolio is $\\sigma(r_C) = w_P\\sigma(r_P)$, which gives us:\n",
    "\n",
    "$$ w_P = \\frac{\\sigma(r_C)}{\\sigma(r_P)} $$\n",
    "\n",
    "The line $E(r_C) = r_f + S_P\\sigma(r_C)$ is the capital allocation line (CAL). The slope of the line, $S_P$, is known as the __Sharpe ratio__. The Sharpe ratio measures the increase in expected return per unit of additional standard deviation."
   ]
  },
  {
   "cell_type": "code",
   "execution_count": 135,
   "metadata": {},
   "outputs": [],
   "source": [
    "def max_sharpe(r_f, weights, A, B, rho_AB):\n",
    "    '''\n",
    "    Function to return weights that give the highest Sharpe ratio\n",
    "    '''\n",
    "    rets = p_returns(weights=weights, r_A=A[0], r_B=B[0])\n",
    "    vol = p_var(weights=weights, std_A=A[1], std_B=B[1], rho_AB=rho_AB)  \n",
    "    \n",
    "    max_weights = 0\n",
    "    max_sharpe_ratio = 0\n",
    "    \n",
    "    for i, e in enumerate(weights):\n",
    "        sharpe = (rets[i]-r_f)/vol[i]\n",
    "        if isinstance(max_weights, int):\n",
    "            max_weights = e \n",
    "        if max_sharpe_ratio == 0:\n",
    "            max_sharpe_ratio = sharpe\n",
    "        if sharpe > max_sharpe_ratio:\n",
    "            max_sharpe = sharpe\n",
    "            max_weights = e\n",
    "\n",
    "    return max_weights, max_sharpe_ratio"
   ]
  },
  {
   "cell_type": "code",
   "execution_count": 136,
   "metadata": {},
   "outputs": [
    {
     "data": {
      "text/plain": [
       "(array([0.83333333, 0.16666667]), array([4.]))"
      ]
     },
     "execution_count": 136,
     "metadata": {},
     "output_type": "execute_result"
    }
   ],
   "source": [
    "max_sharpe(0.03, weights, A, B, rho_AB)"
   ]
  }
 ],
 "metadata": {
  "kernelspec": {
   "display_name": "Python 3",
   "language": "python",
   "name": "python3"
  },
  "language_info": {
   "codemirror_mode": {
    "name": "ipython",
    "version": 3
   },
   "file_extension": ".py",
   "mimetype": "text/x-python",
   "name": "python",
   "nbconvert_exporter": "python",
   "pygments_lexer": "ipython3",
   "version": "3.7.7"
  }
 },
 "nbformat": 4,
 "nbformat_minor": 4
}
